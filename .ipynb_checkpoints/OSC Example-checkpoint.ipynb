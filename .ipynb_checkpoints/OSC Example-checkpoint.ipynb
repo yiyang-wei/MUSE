{
 "cells": [
  {
   "cell_type": "code",
   "execution_count": null,
   "id": "9d7d5864",
   "metadata": {},
   "outputs": [],
   "source": [
    "from pythonosc import dispatcher\n",
    "from pythonosc import osc_server\n",
    "\n",
    "def eeg_handler(unused_addr,args,ch1,ch2,ch3,ch4):\n",
    "    print(\"EEG per channel: \",ch1,ch2,ch3,ch4)\n",
    "    \n",
    "port = 5000\n",
    "ip = \"127.0.0.1\"\n",
    "\n",
    "dispatcher = dispatcher.Dispatcher()\n",
    "dispatcher.map(\"/debug\",print)\n",
    "dispatcher.map(\"/Muse/eeg\",eeg_handler,\"EEG\")\n",
    "\n",
    "server = osc_server.BlockingOSCUDPServer((ip, port), dispatcher)\n",
    "server.serve_forever()"
   ]
  },
  {
   "cell_type": "code",
   "execution_count": null,
   "id": "2561eddd",
   "metadata": {},
   "outputs": [],
   "source": []
  }
 ],
 "metadata": {
  "kernelspec": {
   "display_name": "Python 3 (ipykernel)",
   "language": "python",
   "name": "python3"
  },
  "language_info": {
   "codemirror_mode": {
    "name": "ipython",
    "version": 3
   },
   "file_extension": ".py",
   "mimetype": "text/x-python",
   "name": "python",
   "nbconvert_exporter": "python",
   "pygments_lexer": "ipython3",
   "version": "3.9.13"
  }
 },
 "nbformat": 4,
 "nbformat_minor": 5
}
